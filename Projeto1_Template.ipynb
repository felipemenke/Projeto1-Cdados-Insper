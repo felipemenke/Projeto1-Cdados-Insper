{
 "cells": [
  {
   "cell_type": "markdown",
   "metadata": {},
   "source": [
    "# Projeto 1 - Ciência dos Dados"
   ]
  },
  {
   "cell_type": "markdown",
   "metadata": {},
   "source": [
    "Nome: Denis Alonso\n",
    "\n",
    "Nome: Felipe Menke\n",
    "\n",
    "Nome: Gabriel Correia"
   ]
  },
  {
   "cell_type": "markdown",
   "metadata": {},
   "source": [
    "___\n",
    "### Atenção: <br> $\\quad$* Serão permitidos grupos de até 3 pessoas, mas com uma rubrica mais exigente. <br> $\\quad$* Veja RUBRICA na última página do arquivo PDF que traz o enunciado do Proejto 1."
   ]
  },
  {
   "cell_type": "markdown",
   "metadata": {},
   "source": [
    "___\n",
    "Carregando algumas bibliotecas:"
   ]
  },
  {
   "cell_type": "code",
   "execution_count": 17,
   "metadata": {},
   "outputs": [],
   "source": [
    "%matplotlib inline\n",
    "import pandas as pd\n",
    "import matplotlib.pyplot as plt\n",
    "import numpy as np\n",
    "import os"
   ]
  },
  {
   "cell_type": "code",
   "execution_count": 18,
   "metadata": {
    "scrolled": false
   },
   "outputs": [
    {
     "name": "stdout",
     "output_type": "stream",
     "text": [
      "Esperamos trabalhar no diretório\n",
      "c:\\Users\\lipem\\OneDrive\\Documentos\\GitHub\\PyGAME\\Projeto1-Cdados-Insper\n"
     ]
    }
   ],
   "source": [
    "print('Esperamos trabalhar no diretório')\n",
    "print(os.getcwd())"
   ]
  },
  {
   "cell_type": "markdown",
   "metadata": {},
   "source": [
    "___\n",
    "\n",
    "### Carregando a base de dados com as mensagens dos seus arquivos. <br> Tire o `#` do início da linha de código condizente ao caso escolhido para o projeto 1."
   ]
  },
  {
   "cell_type": "code",
   "execution_count": 19,
   "metadata": {},
   "outputs": [],
   "source": [
    "# SE SEU PROJETO USA OS DADOS SOBRE \"Airline Passenger Reviews\"\n",
    "train = pd.read_csv('dados_treino_ate_TRIO_FelipeMenke.csv')\n",
    "test = pd.read_csv('dados_teste_ate_TRIO_FelipeMenke.csv')"
   ]
  },
  {
   "cell_type": "code",
   "execution_count": 20,
   "metadata": {},
   "outputs": [],
   "source": [
    "# SE SEU PROJETO USA OS DADOS SOBRE \"ChatGPT Classification\"\n",
    "#train = pd.read_csv('dados_treino_so_DUPLA_'+nome+'.csv')\n",
    "#test = pd.read_csv('dados_teste_so_DUPLA_'+nome+'.csv')"
   ]
  },
  {
   "cell_type": "code",
   "execution_count": 21,
   "metadata": {},
   "outputs": [
    {
     "data": {
      "text/html": [
       "<div>\n",
       "<style scoped>\n",
       "    .dataframe tbody tr th:only-of-type {\n",
       "        vertical-align: middle;\n",
       "    }\n",
       "\n",
       "    .dataframe tbody tr th {\n",
       "        vertical-align: top;\n",
       "    }\n",
       "\n",
       "    .dataframe thead th {\n",
       "        text-align: right;\n",
       "    }\n",
       "</style>\n",
       "<table border=\"1\" class=\"dataframe\">\n",
       "  <thead>\n",
       "    <tr style=\"text-align: right;\">\n",
       "      <th></th>\n",
       "      <th>Review</th>\n",
       "      <th>Target</th>\n",
       "    </tr>\n",
       "  </thead>\n",
       "  <tbody>\n",
       "    <tr>\n",
       "      <th>0</th>\n",
       "      <td>Singapore to Jakarta. 9 years since I last to...</td>\n",
       "      <td>Passive</td>\n",
       "    </tr>\n",
       "    <tr>\n",
       "      <th>1</th>\n",
       "      <td>Norwegian Long Haul. OSL-LGW. Flight DY1310. 1...</td>\n",
       "      <td>Promoter</td>\n",
       "    </tr>\n",
       "    <tr>\n",
       "      <th>2</th>\n",
       "      <td>Guangzhou to Paris. I have paid for inflight...</td>\n",
       "      <td>Promoter</td>\n",
       "    </tr>\n",
       "    <tr>\n",
       "      <th>3</th>\n",
       "      <td>Vientiane to Melbourne via Bangkok. A very en...</td>\n",
       "      <td>Promoter</td>\n",
       "    </tr>\n",
       "    <tr>\n",
       "      <th>4</th>\n",
       "      <td>I travelled Manchester - Sydney return on 777-...</td>\n",
       "      <td>Passive</td>\n",
       "    </tr>\n",
       "  </tbody>\n",
       "</table>\n",
       "</div>"
      ],
      "text/plain": [
       "                                              Review    Target\n",
       "0   Singapore to Jakarta. 9 years since I last to...   Passive\n",
       "1  Norwegian Long Haul. OSL-LGW. Flight DY1310. 1...  Promoter\n",
       "2    Guangzhou to Paris. I have paid for inflight...  Promoter\n",
       "3   Vientiane to Melbourne via Bangkok. A very en...  Promoter\n",
       "4  I travelled Manchester - Sydney return on 777-...   Passive"
      ]
     },
     "execution_count": 21,
     "metadata": {},
     "output_type": "execute_result"
    }
   ],
   "source": [
    "train.head()"
   ]
  },
  {
   "cell_type": "code",
   "execution_count": 22,
   "metadata": {},
   "outputs": [
    {
     "data": {
      "text/html": [
       "<div>\n",
       "<style scoped>\n",
       "    .dataframe tbody tr th:only-of-type {\n",
       "        vertical-align: middle;\n",
       "    }\n",
       "\n",
       "    .dataframe tbody tr th {\n",
       "        vertical-align: top;\n",
       "    }\n",
       "\n",
       "    .dataframe thead th {\n",
       "        text-align: right;\n",
       "    }\n",
       "</style>\n",
       "<table border=\"1\" class=\"dataframe\">\n",
       "  <thead>\n",
       "    <tr style=\"text-align: right;\">\n",
       "      <th></th>\n",
       "      <th>Review</th>\n",
       "      <th>Target</th>\n",
       "    </tr>\n",
       "  </thead>\n",
       "  <tbody>\n",
       "    <tr>\n",
       "      <th>0</th>\n",
       "      <td>Budapest to Warsaw. The ground crew was very ...</td>\n",
       "      <td>Passive</td>\n",
       "    </tr>\n",
       "    <tr>\n",
       "      <th>1</th>\n",
       "      <td>Bergerac to Stansted. Just come off a particul...</td>\n",
       "      <td>Detractor</td>\n",
       "    </tr>\n",
       "    <tr>\n",
       "      <th>2</th>\n",
       "      <td>BRU-LIS. Flight left a few minutes late aircra...</td>\n",
       "      <td>Promoter</td>\n",
       "    </tr>\n",
       "    <tr>\n",
       "      <th>3</th>\n",
       "      <td>Fleet of A319 and A320 in this route. Fast che...</td>\n",
       "      <td>Passive</td>\n",
       "    </tr>\n",
       "    <tr>\n",
       "      <th>4</th>\n",
       "      <td>4 Nov Houston-Doha QR714 and 15 Nov Doha-Houst...</td>\n",
       "      <td>Passive</td>\n",
       "    </tr>\n",
       "  </tbody>\n",
       "</table>\n",
       "</div>"
      ],
      "text/plain": [
       "                                              Review     Target\n",
       "0   Budapest to Warsaw. The ground crew was very ...    Passive\n",
       "1  Bergerac to Stansted. Just come off a particul...  Detractor\n",
       "2  BRU-LIS. Flight left a few minutes late aircra...   Promoter\n",
       "3  Fleet of A319 and A320 in this route. Fast che...    Passive\n",
       "4  4 Nov Houston-Doha QR714 and 15 Nov Doha-Houst...    Passive"
      ]
     },
     "execution_count": 22,
     "metadata": {},
     "output_type": "execute_result"
    }
   ],
   "source": [
    "test.head()"
   ]
  },
  {
   "cell_type": "markdown",
   "metadata": {},
   "source": [
    "___\n",
    "# Classificador Automático (Boot)\n"
   ]
  },
  {
   "cell_type": "markdown",
   "metadata": {},
   "source": [
    "Faça aqui uma descrição do seu assunto e o contexto referente aos rótulos cujas mensagens (ou reviews) deverão ser classificadas.\n",
    "\n",
    "ESCREVA AQUI..."
   ]
  },
  {
   "cell_type": "markdown",
   "metadata": {},
   "source": [
    "___\n",
    "## Montando SEU Classificador Naive-Bayes\n",
    "\n",
    "Considerando apenas as mensagens da planilha Treinamento, ensine  seu classificador."
   ]
  },
  {
   "cell_type": "code",
   "execution_count": 23,
   "metadata": {},
   "outputs": [],
   "source": [
    "#Função para limpar o texto\n",
    "\n",
    "\n",
    "import re \n",
    "\n",
    "\n",
    "def cleanup(text):\n",
    "    \n",
    "    text = text.replace('\\n', ' ').replace('\\r', ' ')    \n",
    "    text = re.sub(r'\\s+', ' ', text)\n",
    "    punctuation = '[´\"!-.:?;$'']' \n",
    "    pattern = re.compile(punctuation)\n",
    "    text_subbed = re.sub(pattern, '', text)\n",
    "    \n",
    "    return text_subbed"
   ]
  },
  {
   "cell_type": "markdown",
   "metadata": {},
   "source": [
    "**Todas as Avaliações**"
   ]
  },
  {
   "cell_type": "code",
   "execution_count": 24,
   "metadata": {},
   "outputs": [],
   "source": [
    "#Descobrindo a quantidade total de palavras\n",
    "dic_total = train.loc[:, \"Review\"]  \n",
    "palavras_totais = dic_total.tolist()  \n",
    "palavras_totais = \" \".join(palavras_totais)  \n",
    "palavras_totais = cleanup(palavras_totais).lower()  \n",
    "palavras_totais = palavras_totais.split()  \n",
    "palavras_totais = pd.Series(palavras_totais)  \n",
    "qtd_palavras_totais = palavras_totais.value_counts()  \n",
    "qtd_palavras_totais = qtd_palavras_totais.sum() \n"
   ]
  },
  {
   "cell_type": "markdown",
   "metadata": {},
   "source": [
    "**Dados - Avaliações Perfil Passivo**\n"
   ]
  },
  {
   "cell_type": "code",
   "execution_count": 25,
   "metadata": {},
   "outputs": [],
   "source": [
    "#PASSIVO\n",
    "\n",
    "dic_passivos = train.loc[train[\"Target\"]==\"Passive\",\"Review\"]\n",
    "#Transformando em Lista\n",
    "frases_passivos = dic_passivos.tolist()\n",
    "\n",
    "#Juntando as frases,Limpando (caracteres especiais, e diminuindo as letras)\n",
    "frases_passivos = \" \".join(frases_passivos)\n",
    "frases_passivos = cleanup(frases_passivos).lower()\n",
    "frases_passivos = frases_passivos.split()\n",
    "\n",
    "#Probabilidade de ser Passivo\n",
    "qtd_palavras_passivos = pd.Series(frases_passivos).value_counts()\n",
    "qtd_palavras_passivos = qtd_palavras_passivos.sum()\n",
    "\n",
    "Prob_Passivo = qtd_palavras_passivos/qtd_palavras_totais\n",
    "\n",
    "#Criando Frequencia Relativa das Palavras\n",
    "\n",
    "freq_rel_passivos = pd.Series(frases_passivos).value_counts(True)"
   ]
  },
  {
   "cell_type": "markdown",
   "metadata": {},
   "source": [
    "**Dados - Avaliações Perfil Detrator**"
   ]
  },
  {
   "cell_type": "code",
   "execution_count": 26,
   "metadata": {},
   "outputs": [],
   "source": [
    "#DETRACTOR\n",
    "\n",
    "dic_detrator = train.loc[train[\"Target\"]==\"Detractor\",\"Review\"]\n",
    "\n",
    "#Transformando em Lista\n",
    "frases_detractor = dic_detrator.tolist()\n",
    "#Juntando as frases,Limpando (caracteres especiais, e diminuindo as letras)\n",
    "frases_detractor = \" \".join(frases_detractor)\n",
    "frases_detractor = cleanup(frases_detractor).lower()\n",
    "frases_detractor = frases_detractor.split()\n",
    "\n",
    "#Probabilidade de ser Detrator\n",
    "qtd_palavras_detrator = pd.Series(frases_detractor).value_counts()\n",
    "qtd_palavras_detrator = qtd_palavras_detrator.sum()\n",
    "\n",
    "Prob_Detrator = qtd_palavras_detrator/qtd_palavras_totais\n",
    "\n",
    "#Criando Frequencia Relativa das Palavras\n",
    "\n",
    "freq_rel_detrator = pd.Series(frases_detractor).value_counts(True)"
   ]
  },
  {
   "cell_type": "markdown",
   "metadata": {},
   "source": [
    "**Dados - Avaliações Perfil Promoter**"
   ]
  },
  {
   "cell_type": "code",
   "execution_count": 27,
   "metadata": {},
   "outputs": [
    {
     "name": "stdout",
     "output_type": "stream",
     "text": [
      "the         0.049208\n",
      "and         0.037813\n",
      "to          0.029852\n",
      "was         0.026083\n",
      "a           0.021977\n",
      "              ...   \n",
      "737800ng    0.000011\n",
      "sep/13      0.000011\n",
      "eilna       0.000011\n",
      "787800      0.000011\n",
      "dy1310      0.000011\n",
      "Name: proportion, Length: 6755, dtype: float64\n"
     ]
    }
   ],
   "source": [
    "#PROMOTER\n",
    "\n",
    "dic_promoter = train.loc[train[\"Target\"]==\"Promoter\",\"Review\"]\n",
    "\n",
    "#Transformando em Lista\n",
    "frases_promoter = dic_promoter.tolist()\n",
    "\n",
    "#Juntando as frases,Limpando (caracteres especiais, e diminuindo as letras)\n",
    "frases_promoter = \" \".join(frases_promoter)\n",
    "frases_promoter = cleanup(frases_promoter).lower()\n",
    "frases_promoter = frases_promoter.split()\n",
    "\n",
    "#Probabilidade de ser Detrator\n",
    "qtd_palavras_promoter = pd.Series(frases_promoter).value_counts()\n",
    "qtd_palavras_promoter = qtd_palavras_promoter.sum()\n",
    "\n",
    "Prob_Promoter = qtd_palavras_promoter/qtd_palavras_totais\n",
    "\n",
    "#Criando Frequencia Relativa das Palavras\n",
    "\n",
    "freq_rel_promoter = pd.Series(frases_promoter).value_counts(True)\n",
    "print(freq_rel_promoter)"
   ]
  },
  {
   "cell_type": "markdown",
   "metadata": {},
   "source": [
    "___\n",
    "## Verificando a performance do Classificador\n",
    "\n",
    "Agora você deve testar o seu classificador com a base de Testes."
   ]
  },
  {
   "cell_type": "code",
   "execution_count": 28,
   "metadata": {},
   "outputs": [
    {
     "data": {
      "text/html": [
       "<div>\n",
       "<style scoped>\n",
       "    .dataframe tbody tr th:only-of-type {\n",
       "        vertical-align: middle;\n",
       "    }\n",
       "\n",
       "    .dataframe tbody tr th {\n",
       "        vertical-align: top;\n",
       "    }\n",
       "\n",
       "    .dataframe thead th {\n",
       "        text-align: right;\n",
       "    }\n",
       "</style>\n",
       "<table border=\"1\" class=\"dataframe\">\n",
       "  <thead>\n",
       "    <tr style=\"text-align: right;\">\n",
       "      <th></th>\n",
       "      <th>Target</th>\n",
       "      <th>Predição</th>\n",
       "    </tr>\n",
       "  </thead>\n",
       "  <tbody>\n",
       "    <tr>\n",
       "      <th>0</th>\n",
       "      <td>Passive</td>\n",
       "      <td>Passive</td>\n",
       "    </tr>\n",
       "    <tr>\n",
       "      <th>1</th>\n",
       "      <td>Detractor</td>\n",
       "      <td>Detractor</td>\n",
       "    </tr>\n",
       "    <tr>\n",
       "      <th>2</th>\n",
       "      <td>Promoter</td>\n",
       "      <td>Promoter</td>\n",
       "    </tr>\n",
       "    <tr>\n",
       "      <th>3</th>\n",
       "      <td>Passive</td>\n",
       "      <td>Passive</td>\n",
       "    </tr>\n",
       "    <tr>\n",
       "      <th>4</th>\n",
       "      <td>Passive</td>\n",
       "      <td>Detractor</td>\n",
       "    </tr>\n",
       "    <tr>\n",
       "      <th>...</th>\n",
       "      <td>...</td>\n",
       "      <td>...</td>\n",
       "    </tr>\n",
       "    <tr>\n",
       "      <th>1075</th>\n",
       "      <td>Passive</td>\n",
       "      <td>Promoter</td>\n",
       "    </tr>\n",
       "    <tr>\n",
       "      <th>1076</th>\n",
       "      <td>Passive</td>\n",
       "      <td>Detractor</td>\n",
       "    </tr>\n",
       "    <tr>\n",
       "      <th>1077</th>\n",
       "      <td>Detractor</td>\n",
       "      <td>Promoter</td>\n",
       "    </tr>\n",
       "    <tr>\n",
       "      <th>1078</th>\n",
       "      <td>Detractor</td>\n",
       "      <td>Detractor</td>\n",
       "    </tr>\n",
       "    <tr>\n",
       "      <th>1079</th>\n",
       "      <td>Passive</td>\n",
       "      <td>Detractor</td>\n",
       "    </tr>\n",
       "  </tbody>\n",
       "</table>\n",
       "<p>1080 rows × 2 columns</p>\n",
       "</div>"
      ],
      "text/plain": [
       "         Target   Predição\n",
       "0       Passive    Passive\n",
       "1     Detractor  Detractor\n",
       "2      Promoter   Promoter\n",
       "3       Passive    Passive\n",
       "4       Passive  Detractor\n",
       "...         ...        ...\n",
       "1075    Passive   Promoter\n",
       "1076    Passive  Detractor\n",
       "1077  Detractor   Promoter\n",
       "1078  Detractor  Detractor\n",
       "1079    Passive  Detractor\n",
       "\n",
       "[1080 rows x 2 columns]"
      ]
     },
     "execution_count": 28,
     "metadata": {},
     "output_type": "execute_result"
    }
   ],
   "source": [
    "dic_final = {}\n",
    "Target_test = test.loc[:, \"Target\"]\n",
    "Review_test = test.loc[:, \"Review\"]\n",
    "\n",
    "for i in range(len(test)):\n",
    "    tipo = Target_test.iloc[i]  \n",
    "    frase = cleanup(Review_test.iloc[i]).lower().strip()\n",
    "    frase = \" \".join(frase.split())  \n",
    "\n",
    "    \n",
    "    probDetratordadoFrase = 1\n",
    "    probPromoterdadoFrase = 1\n",
    "    probPassivodadoFrase = 1\n",
    "\n",
    "\n",
    "    for palavra in frase.split():\n",
    "        palavra = palavra.lower().strip()\n",
    "\n",
    "\n",
    "        probDetratordadoFrase *= freq_rel_detrator.get(palavra, 1)\n",
    "        probPromoterdadoFrase *= freq_rel_promoter.get(palavra, 1)\n",
    "        probPassivodadoFrase *= freq_rel_passivos.get(palavra, 1)\n",
    "\n",
    "    maior = max(probDetratordadoFrase, probPromoterdadoFrase, probPassivodadoFrase)\n",
    "\n",
    "    if maior == probDetratordadoFrase:\n",
    "        final = \"Detractor\"\n",
    "    elif maior == probPromoterdadoFrase:\n",
    "        final = \"Promoter\"\n",
    "    else:\n",
    "        final = \"Passive\"\n",
    "\n",
    "    dic_final[i] = (tipo, final)\n",
    "\n",
    "\n",
    "import pandas as pd\n",
    "df_resultado = pd.DataFrame.from_dict(dic_final, orient=\"index\", columns=[\"Target\", \"Predição\"])\n",
    "\n",
    "\n",
    "df_resultado"
   ]
  },
  {
   "cell_type": "code",
   "execution_count": 29,
   "metadata": {},
   "outputs": [
    {
     "name": "stdout",
     "output_type": "stream",
     "text": [
      "Passivo: 67 acertos, 305 erros\n",
      "Promoter: 149 acertos, 192 erros\n",
      "Detractor: 243 acertos, 124 erros\n"
     ]
    }
   ],
   "source": [
    "# Selecionando apenas as categorias corretas\n",
    "Passivo = df_resultado.loc[df_resultado[\"Target\"] == \"Passive\", \"Predição\"]\n",
    "Promoter = df_resultado.loc[df_resultado[\"Target\"] == \"Promoter\", \"Predição\"]\n",
    "Detractor = df_resultado.loc[df_resultado[\"Target\"] == \"Detractor\", \"Predição\"]\n",
    "\n",
    "# Inicializando contadores\n",
    "acerto_passivo = 0\n",
    "erro_passivo = 0\n",
    "acerto_promoter = 0\n",
    "erro_promoter = 0\n",
    "acerto_detrator = 0\n",
    "erro_detrator = 0\n",
    "\n",
    "# Loop corrigido - agora usa `.iteritems()` para evitar problemas de índice\n",
    "for idx, predicao in Passivo.items():\n",
    "    if predicao == \"Passive\":\n",
    "        acerto_passivo += 1\n",
    "    else:\n",
    "        erro_passivo += 1\n",
    "\n",
    "for idx, predicao in Promoter.items():\n",
    "    if predicao == \"Promoter\":\n",
    "        acerto_promoter += 1\n",
    "    else:\n",
    "        erro_promoter += 1\n",
    "\n",
    "for idx, predicao in Detractor.items():\n",
    "    if predicao == \"Detractor\":\n",
    "        acerto_detrator += 1\n",
    "    else:\n",
    "        erro_detrator += 1\n",
    "\n",
    "# Exibir os resultados de acertos e erros\n",
    "print(f\"Passivo: {acerto_passivo} acertos, {erro_passivo} erros\")\n",
    "print(f\"Promoter: {acerto_promoter} acertos, {erro_promoter} erros\")\n",
    "print(f\"Detractor: {acerto_detrator} acertos, {erro_detrator} erros\")\n"
   ]
  },
  {
   "cell_type": "code",
   "execution_count": null,
   "metadata": {},
   "outputs": [],
   "source": []
  },
  {
   "cell_type": "markdown",
   "metadata": {},
   "source": [
    "___\n",
    "## Análise Qualitativa da Performance do Classificador"
   ]
  },
  {
   "cell_type": "markdown",
   "metadata": {},
   "source": [
    "**Criando a Acurácia dos Preditores**"
   ]
  },
  {
   "cell_type": "code",
   "execution_count": 44,
   "metadata": {},
   "outputs": [
    {
     "name": "stdout",
     "output_type": "stream",
     "text": [
      "O total de acertos do classicador das Targets foi de 459\n",
      "\n",
      "O total de erros do classificador de erros das Targets foi de erros totais 621\n",
      "\n",
      "A acurácia do classificador da Target Passive é de 18.01%\n",
      "\n",
      "A acurácia do classificador da Target Detractor é de 66.21%\n",
      "\n",
      "A acurácia do classificador da Target Promoter é de 43.70%\n",
      "\n"
     ]
    }
   ],
   "source": [
    "acur_passivo = (acerto_passivo/(acerto_passivo+erro_passivo))*100\n",
    "acur_detractor = (acerto_detrator/(acerto_detrator+erro_detrator))*100\n",
    "acur_promoter = (acerto_promoter/(acerto_promoter+erro_promoter))*100\n",
    "acur_total = ((acur_promoter+acur_detractor+acur_passivo)/3)\n",
    "erros_totais = (erro_passivo+erro_detrator+erro_promoter)\n",
    "acertos_totais = (acerto_passivo+acerto_detrator+acerto_promoter)\n",
    "erros_totais = (erro_passivo+erro_detrator+erro_promoter)\n",
    "acertos_totais = (acerto_passivo+acerto_detrator+acerto_promoter)\n",
    "\n",
    "\n",
    "print(f\"O total de acertos do classicador das Targets foi de {acertos_totais}\")\n",
    "print()\n",
    "print(f\"O total de erros do classificador de erros das Targets foi de erros totais {erros_totais}\")\n",
    "print()\n",
    "print(f\"A acurácia do classificador da Target Passive é de {acur_passivo:.2f}%\")\n",
    "print()\n",
    "print(f\"A acurácia do classificador da Target Detractor é de {acur_detractor:.2f}%\")\n",
    "print()\n",
    "print(f\"A acurácia do classificador da Target Promoter é de {acur_promoter:.2f}%\")\n",
    "print()\n",
    "\n"
   ]
  },
  {
   "cell_type": "code",
   "execution_count": 45,
   "metadata": {},
   "outputs": [
    {
     "name": "stdout",
     "output_type": "stream",
     "text": [
      "A acurácia do classificador de Target foi de 42.64%\n"
     ]
    }
   ],
   "source": [
    "acur_total = ((acur_promoter+acur_detractor+acur_passivo)/3)\n",
    "\n",
    "\n",
    "print(f\"A acurácia do classificador de Target foi de {acur_total:.2f}%\")"
   ]
  },
  {
   "cell_type": "markdown",
   "metadata": {},
   "source": [
    "**Análise da quantidade de frases de cada Target**"
   ]
  },
  {
   "cell_type": "code",
   "execution_count": 46,
   "metadata": {},
   "outputs": [
    {
     "name": "stdout",
     "output_type": "stream",
     "text": [
      "A quantidade de frases de Passivos é 372\n",
      "\n",
      "A quantidade de frases de Detrector é 367\n",
      "\n",
      "A quantidade de frases de Promoter é 341\n",
      "\n"
     ]
    }
   ],
   "source": [
    "print(f\"A quantidade de frases de Passivos é {(acerto_passivo+erro_passivo)}\")\n",
    "print()\n",
    "print(f\"A quantidade de frases de Detrector é {(acerto_detrator+erro_detrator)}\")\n",
    "print()\n",
    "print(f\"A quantidade de frases de Promoter é {(acerto_promoter+erro_promoter)}\")\n",
    "print()\n",
    "\n",
    "#Quantidades iguais, ou seja a diferença de acuracia não é culpa da quantidade de termos"
   ]
  },
  {
   "cell_type": "markdown",
   "metadata": {},
   "source": []
  },
  {
   "cell_type": "code",
   "execution_count": null,
   "metadata": {},
   "outputs": [],
   "source": []
  },
  {
   "cell_type": "markdown",
   "metadata": {},
   "source": [
    "___\n",
    "## Qualidade do Classificador a partir de novas separações das mensagens entre Treinamento e Teste\n",
    "\n",
    "Caso for fazer esse item do Projeto"
   ]
  },
  {
   "cell_type": "code",
   "execution_count": null,
   "metadata": {},
   "outputs": [],
   "source": []
  },
  {
   "cell_type": "code",
   "execution_count": null,
   "metadata": {},
   "outputs": [],
   "source": []
  },
  {
   "cell_type": "code",
   "execution_count": null,
   "metadata": {},
   "outputs": [],
   "source": []
  },
  {
   "cell_type": "markdown",
   "metadata": {},
   "source": [
    "___\n",
    "## Aperfeiçoamento:\n",
    "\n",
    "Leia atentamente a rubrica colocada no enunciado do Projeto 1 (última página). <br>\n",
    "Trabalhos que conseguirem pelo menos conceito B vão evoluir em conceito dependendo da quantidade de itens avançados:\n",
    "\n",
    "* IMPLEMENTOU outras limpezas e transformações que não afetem a qualidade da informação contida nas mensagens, mas tendem a melhorar na classificação das mensagens. Ex: stemming, lemmatization, stopwords.\n",
    "* CONSIDEROU arquivo com três categorias na classificação das variáveis (OBRIGATÓRIO PARA QUARTETOS, sem contar como item avançado)\n",
    "* CONSTRUIU o cálculo das probabilidades corretamente utilizando bigramas E apresentou referência sobre o método utilizado.\n",
    "* EXPLICOU porquê não pode usar novas mensagens classificadas pelo próprio classificador como amostra de treinamento\n",
    "* PROPÔS diferentes cenários para Naïve Bayes fora do contexto do projeto (pelo menos dois cenários diferentes, exceto aqueles já apresentados em sala pelos professores: por exemplo, filtro de spam)\n",
    "* REFLETE criticamente sobre os resultados obtidos, identificando limitações do modelo e sugerindo possíveis melhorias ou diferentes abordagens com indicações concretas de como implementar (indicar como fazer e indicar material de pesquisa).\n",
    "* DOCUMENTOU bem o código, com explicações claras para cada etapa do processo, incluindo o raciocínio por trás das decisões de modelagem e das transformações de dados.\n"
   ]
  },
  {
   "cell_type": "markdown",
   "metadata": {},
   "source": [
    "___\n",
    "## Referências"
   ]
  },
  {
   "cell_type": "markdown",
   "metadata": {},
   "source": [
    "[Naive Bayes and Text Classification](https://arxiv.org/pdf/1410.5329.pdf)  **Mais completo**\n",
    "\n",
    "[Natural Language Processing (Part 17)-Laplacian Smoothing](https://medium.com/@Coursesteach/natural-language-processing-part-17-laplacian-smoothing-7d4be71d0ded) **Mais simples**"
   ]
  },
  {
   "cell_type": "code",
   "execution_count": null,
   "metadata": {},
   "outputs": [],
   "source": []
  }
 ],
 "metadata": {
  "kernelspec": {
   "display_name": "Python 3",
   "language": "python",
   "name": "python3"
  },
  "language_info": {
   "codemirror_mode": {
    "name": "ipython",
    "version": 3
   },
   "file_extension": ".py",
   "mimetype": "text/x-python",
   "name": "python",
   "nbconvert_exporter": "python",
   "pygments_lexer": "ipython3",
   "version": "3.11.9"
  }
 },
 "nbformat": 4,
 "nbformat_minor": 4
}
