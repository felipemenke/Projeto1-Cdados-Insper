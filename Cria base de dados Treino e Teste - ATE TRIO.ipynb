{
 "cells": [
  {
   "cell_type": "markdown",
   "metadata": {},
   "source": [
    "## [**Airline Passenger Reviews - Kaggle**](https://www.kaggle.com/datasets/malharkhatu/airline-passenger-reviews/datat)\n",
    "\n",
    "### Contexto e Conjunto de Dados\n",
    "\n",
    "O conjunto de dados contém avaliações de passageiros junto com categorias correspondentes, oferecendo uma visão ampla da experiência em viagens aéreas. Ele permite análises sobre satisfação do cliente, qualidade do serviço e sentimento, auxiliando na tomada de decisões no setor aéreo.\n",
    "\n",
    "Na metodologia do Net Promoter Score (NPS), que é frequentemente aplicada em pesquisas de satisfação do cliente, \"detractor\", \"promoter\" e \"other\" representam categorias específicas atribuídas às respostas dos participantes. Essas categorias ajudam a avaliar o nível geral de satisfação do cliente que, usualmente, é calculado por:<br>\n",
    "$$NPS=\\%Promoters−\\%Detractors$$\n",
    "\n",
    "Vamos explicar o significado de cada termo:\n",
    "\n",
    " * **Detractor (Detrator):**<br>\n",
    "Significado: Refere-se aos clientes que expressaram insatisfação ou descontentamento significativo com o serviço ou produto.<br>\n",
    "Classificação: Geralmente, os clientes que atribuem uma pontuação de 0 a 6 (em uma escala de 0 a 10) são considerados detratores.\n",
    "<br>\n",
    "\n",
    "* **Promoter (Promotor):**<br>\n",
    "Significado: Representa os clientes extremamente satisfeitos e leais ao serviço ou produto.<br>\n",
    "Classificação: Os clientes que atribuem uma pontuação de 9 ou 10 são considerados promotores. Esses clientes são vistos como defensores entusiasmados da marca.\n",
    "<br>\n",
    "\n",
    "* **Other (Outro):**<br>\n",
    "Significado: Engloba as respostas que não se enquadram nas categorias específicas de detratores ou promotores.<br>\n",
    "Classificação: Geralmente inclui as pontuações intermediárias, como 7 e 8 na escala de 0 a 10.\n",
    "\n",
    "<br>\n",
    "\n",
    "### ATENÇÃO: <br> $\\quad$* Como você está em um grupo com no MÁXIMO TRÊS alunos, este Jupyter irá fornecer um arquivo contendo uma amostra de sentenças de acordo com seu username.  <br>  $\\quad$* Basta um arquivo por grupo.\n",
    "\n"
   ]
  },
  {
   "cell_type": "code",
   "execution_count": 1,
   "metadata": {},
   "outputs": [],
   "source": [
    "import pandas as pd\n",
    "import random\n",
    "import os\n",
    "from sklearn.model_selection import train_test_split"
   ]
  },
  {
   "cell_type": "code",
   "execution_count": 2,
   "metadata": {},
   "outputs": [],
   "source": [
    "# Transforma string em inteiro\n",
    "def nome_para_inteiro(nome):\n",
    "    nome = nome.upper()  # Converter para maiúsculas para tratar maiúsculas e minúsculas da mesma forma\n",
    "    valor_inteiro = 0\n",
    "    \n",
    "    for letra in nome:\n",
    "        # Verificar se a letra está no alfabeto (A a Z)\n",
    "        if 'A' <= letra <= 'Z':\n",
    "            valor_inteiro += ord(letra) - ord('A') + 1  # Valor de 'A' é 1, 'B' é 2, ..., 'Z' é 26\n",
    "    \n",
    "    return valor_inteiro"
   ]
  },
  {
   "cell_type": "code",
   "execution_count": 3,
   "metadata": {
    "scrolled": false
   },
   "outputs": [
    {
     "data": {
      "text/plain": [
       "['Airline Passenger Reviews.csv',\n",
       " 'Cria base de dados Treino e Teste - ATE TRIO.ipynb',\n",
       " 'Projeto1_Template.ipynb']"
      ]
     },
     "execution_count": 3,
     "metadata": {},
     "output_type": "execute_result"
    }
   ],
   "source": [
    "os.listdir()"
   ]
  },
  {
   "cell_type": "code",
   "execution_count": 4,
   "metadata": {
    "scrolled": true
   },
   "outputs": [
    {
     "data": {
      "text/html": [
       "<div>\n",
       "<style scoped>\n",
       "    .dataframe tbody tr th:only-of-type {\n",
       "        vertical-align: middle;\n",
       "    }\n",
       "\n",
       "    .dataframe tbody tr th {\n",
       "        vertical-align: top;\n",
       "    }\n",
       "\n",
       "    .dataframe thead th {\n",
       "        text-align: right;\n",
       "    }\n",
       "</style>\n",
       "<table border=\"1\" class=\"dataframe\">\n",
       "  <thead>\n",
       "    <tr style=\"text-align: right;\">\n",
       "      <th></th>\n",
       "      <th>Review</th>\n",
       "      <th>Target</th>\n",
       "    </tr>\n",
       "  </thead>\n",
       "  <tbody>\n",
       "    <tr>\n",
       "      <th>0</th>\n",
       "      <td>London to Izmir via Istanbul. First time I'd ...</td>\n",
       "      <td>Passive</td>\n",
       "    </tr>\n",
       "    <tr>\n",
       "      <th>1</th>\n",
       "      <td>Istanbul to Bucharest. We make our check in i...</td>\n",
       "      <td>Detractor</td>\n",
       "    </tr>\n",
       "    <tr>\n",
       "      <th>2</th>\n",
       "      <td>Rome to Prishtina via Istanbul. I flew with t...</td>\n",
       "      <td>Detractor</td>\n",
       "    </tr>\n",
       "    <tr>\n",
       "      <th>3</th>\n",
       "      <td>Flew on Turkish Airlines IAD-IST-KHI and retu...</td>\n",
       "      <td>Promoter</td>\n",
       "    </tr>\n",
       "    <tr>\n",
       "      <th>4</th>\n",
       "      <td>Mumbai to Dublin via Istanbul. Never book Tur...</td>\n",
       "      <td>Detractor</td>\n",
       "    </tr>\n",
       "  </tbody>\n",
       "</table>\n",
       "</div>"
      ],
      "text/plain": [
       "                                              Review     Target\n",
       "0   London to Izmir via Istanbul. First time I'd ...    Passive\n",
       "1   Istanbul to Bucharest. We make our check in i...  Detractor\n",
       "2   Rome to Prishtina via Istanbul. I flew with t...  Detractor\n",
       "3   Flew on Turkish Airlines IAD-IST-KHI and retu...   Promoter\n",
       "4   Mumbai to Dublin via Istanbul. Never book Tur...  Detractor"
      ]
     },
     "execution_count": 4,
     "metadata": {},
     "output_type": "execute_result"
    }
   ],
   "source": [
    "# Ler o arquivo de dados \n",
    "dados = pd.read_csv('Airline Passenger Reviews.csv', encoding='utf-8-sig')\n",
    "nomes_colunas = ['Review','Target']\n",
    "dados.columns = nomes_colunas\n",
    "\n",
    "# Visualização dos dados\n",
    "dados.head()"
   ]
  },
  {
   "cell_type": "code",
   "execution_count": 5,
   "metadata": {
    "scrolled": true
   },
   "outputs": [
    {
     "name": "stdout",
     "output_type": "stream",
     "text": [
      "\n",
      " Frequências de cada rótulo nos DADOS COMPLETO: \n",
      " Target\n",
      "Detractor    30016\n",
      "Promoter     23589\n",
      "Passive      10412\n",
      "Name: count, dtype: int64\n"
     ]
    }
   ],
   "source": [
    "print(\"\\n\",\n",
    "      \"Frequências de cada rótulo nos DADOS COMPLETO: \\n\",\n",
    "      dados.Target.value_counts())"
   ]
  },
  {
   "cell_type": "markdown",
   "metadata": {},
   "source": [
    "--------\n",
    "### ATENÇÃO: <p> Aqui você deverá colocar seu username para construção da sua base de dados a ser usada no Projeto 1"
   ]
  },
  {
   "cell_type": "code",
   "execution_count": 6,
   "metadata": {},
   "outputs": [],
   "source": [
    "nome = input(\"Digite seu nome: \")\n",
    "valor_inteiro = nome_para_inteiro(nome)"
   ]
  },
  {
   "cell_type": "code",
   "execution_count": 7,
   "metadata": {
    "scrolled": true
   },
   "outputs": [
    {
     "data": {
      "text/html": [
       "<div>\n",
       "<style scoped>\n",
       "    .dataframe tbody tr th:only-of-type {\n",
       "        vertical-align: middle;\n",
       "    }\n",
       "\n",
       "    .dataframe tbody tr th {\n",
       "        vertical-align: top;\n",
       "    }\n",
       "\n",
       "    .dataframe thead th {\n",
       "        text-align: right;\n",
       "    }\n",
       "</style>\n",
       "<table border=\"1\" class=\"dataframe\">\n",
       "  <thead>\n",
       "    <tr style=\"text-align: right;\">\n",
       "      <th></th>\n",
       "      <th>Review</th>\n",
       "      <th>Target</th>\n",
       "    </tr>\n",
       "  </thead>\n",
       "  <tbody>\n",
       "    <tr>\n",
       "      <th>0</th>\n",
       "      <td>Bristol to Newcastle 2/12/13. Booked extra leg...</td>\n",
       "      <td>Promoter</td>\n",
       "    </tr>\n",
       "    <tr>\n",
       "      <th>1</th>\n",
       "      <td>Sitting onboard the spacious and iconic 747-4...</td>\n",
       "      <td>Promoter</td>\n",
       "    </tr>\n",
       "    <tr>\n",
       "      <th>2</th>\n",
       "      <td>Booked with Air China mostly for their compet...</td>\n",
       "      <td>Passive</td>\n",
       "    </tr>\n",
       "    <tr>\n",
       "      <th>3</th>\n",
       "      <td>Was anxious about what kind of service we were...</td>\n",
       "      <td>Promoter</td>\n",
       "    </tr>\n",
       "    <tr>\n",
       "      <th>4</th>\n",
       "      <td>Egyptair from London to Cairo. Departed 30 min...</td>\n",
       "      <td>Passive</td>\n",
       "    </tr>\n",
       "  </tbody>\n",
       "</table>\n",
       "</div>"
      ],
      "text/plain": [
       "                                              Review    Target\n",
       "0  Bristol to Newcastle 2/12/13. Booked extra leg...  Promoter\n",
       "1   Sitting onboard the spacious and iconic 747-4...  Promoter\n",
       "2   Booked with Air China mostly for their compet...   Passive\n",
       "3  Was anxious about what kind of service we were...  Promoter\n",
       "4  Egyptair from London to Cairo. Departed 30 min...   Passive"
      ]
     },
     "execution_count": 7,
     "metadata": {},
     "output_type": "execute_result"
    }
   ],
   "source": [
    "# Separar os NPSs\n",
    "dados_D = dados[dados['Target'] == 'Detractor'].sample(n=1200, random_state=valor_inteiro)  # 1200 linhas de Detrator\n",
    "dados_P = dados[dados['Target'] == 'Promoter'].sample(n=1200, random_state=valor_inteiro)  # 1200 linhas de Promoter\n",
    "dados_N = dados[dados['Target'] == 'Passive'].sample(n=1200, random_state=valor_inteiro)  # 1200 linhas de Passive\n",
    "\n",
    "# Combinar as amostras e embaralhar\n",
    "dados_amostrados = (pd.concat([dados_D, dados_P, dados_N])\n",
    "                    .sample(frac=1, random_state=valor_inteiro)\n",
    "                    .reset_index(drop=True))  # Embaralhar\n",
    "\n",
    "# Exibir as primeiras linhas\n",
    "dados_amostrados.head()"
   ]
  },
  {
   "cell_type": "code",
   "execution_count": 8,
   "metadata": {},
   "outputs": [],
   "source": [
    "# Separar os dados de treino e teste \n",
    "X = dados_amostrados.Review\n",
    "y = dados_amostrados.Target\n",
    "X_train, X_test, y_train, y_test = train_test_split(X, y, test_size=0.30, random_state=valor_inteiro)\n",
    "\n",
    "dados_treino = pd.concat([X_train, y_train],axis=1)\n",
    "dados_treino.columns = nomes_colunas\n",
    "dados_teste = pd.concat([X_test, y_test],axis=1)\n",
    "dados_teste.columns = nomes_colunas"
   ]
  },
  {
   "cell_type": "code",
   "execution_count": 9,
   "metadata": {
    "scrolled": false
   },
   "outputs": [
    {
     "name": "stdout",
     "output_type": "stream",
     "text": [
      "\n",
      " Frequências de cada rótulo nos DADOS TREINAMENTO: \n",
      " Target\n",
      "Detractor    833\n",
      "Passive      828\n",
      "Promoter     859\n",
      "Name: count, dtype: int64 \n",
      "\n",
      " Frequências de cada rótulo nos DADOS TESTE: \n",
      " Target\n",
      "Detractor    367\n",
      "Passive      372\n",
      "Promoter     341\n",
      "Name: count, dtype: int64\n"
     ]
    }
   ],
   "source": [
    "print(\"\\n\",\n",
    "      \"Frequências de cada rótulo nos DADOS TREINAMENTO: \\n\",\n",
    "      dados_treino.Target.value_counts(sort=False).sort_index(), \"\\n\\n\",\n",
    "      \"Frequências de cada rótulo nos DADOS TESTE: \\n\",\n",
    "      dados_teste.Target.value_counts(sort=False).sort_index())"
   ]
  },
  {
   "cell_type": "code",
   "execution_count": 10,
   "metadata": {},
   "outputs": [
    {
     "name": "stdout",
     "output_type": "stream",
     "text": [
      "Dados de treino e teste foram salvos em 'dados_treino_ate_TRIO_FelipeMenke.csv' e 'dados_teste_ate_TRIO_FelipeMenke.csv'.\n"
     ]
    }
   ],
   "source": [
    "# Salvar os dados de treino e teste em arquivos CSV\n",
    "nome_arquivo_treino = 'dados_treino_ate_TRIO_'+nome+'.csv'\n",
    "nome_arquivo_teste = 'dados_teste_ate_TRIO_'+nome+'.csv'\n",
    "\n",
    "dados_treino.to_csv(nome_arquivo_treino,index = False, header=True)\n",
    "dados_teste.to_csv(nome_arquivo_teste, index=False)#, engine='xlsxwriter')\n",
    "\n",
    "print(f\"Dados de treino e teste foram salvos em '{nome_arquivo_treino}' e '{nome_arquivo_teste}'.\")"
   ]
  },
  {
   "cell_type": "code",
   "execution_count": 11,
   "metadata": {},
   "outputs": [
    {
     "data": {
      "text/html": [
       "<div>\n",
       "<style scoped>\n",
       "    .dataframe tbody tr th:only-of-type {\n",
       "        vertical-align: middle;\n",
       "    }\n",
       "\n",
       "    .dataframe tbody tr th {\n",
       "        vertical-align: top;\n",
       "    }\n",
       "\n",
       "    .dataframe thead th {\n",
       "        text-align: right;\n",
       "    }\n",
       "</style>\n",
       "<table border=\"1\" class=\"dataframe\">\n",
       "  <thead>\n",
       "    <tr style=\"text-align: right;\">\n",
       "      <th></th>\n",
       "      <th>Review</th>\n",
       "      <th>Target</th>\n",
       "    </tr>\n",
       "  </thead>\n",
       "  <tbody>\n",
       "    <tr>\n",
       "      <th>0</th>\n",
       "      <td>Singapore to Jakarta. 9 years since I last to...</td>\n",
       "      <td>Passive</td>\n",
       "    </tr>\n",
       "    <tr>\n",
       "      <th>1</th>\n",
       "      <td>Norwegian Long Haul. OSL-LGW. Flight DY1310. 1...</td>\n",
       "      <td>Promoter</td>\n",
       "    </tr>\n",
       "    <tr>\n",
       "      <th>2</th>\n",
       "      <td>Guangzhou to Paris. I have paid for inflight...</td>\n",
       "      <td>Promoter</td>\n",
       "    </tr>\n",
       "    <tr>\n",
       "      <th>3</th>\n",
       "      <td>Vientiane to Melbourne via Bangkok. A very en...</td>\n",
       "      <td>Promoter</td>\n",
       "    </tr>\n",
       "    <tr>\n",
       "      <th>4</th>\n",
       "      <td>I travelled Manchester - Sydney return on 777-...</td>\n",
       "      <td>Passive</td>\n",
       "    </tr>\n",
       "    <tr>\n",
       "      <th>...</th>\n",
       "      <td>...</td>\n",
       "      <td>...</td>\n",
       "    </tr>\n",
       "    <tr>\n",
       "      <th>2515</th>\n",
       "      <td>Stansted to Naples. They made me purchase Pri...</td>\n",
       "      <td>Detractor</td>\n",
       "    </tr>\n",
       "    <tr>\n",
       "      <th>2516</th>\n",
       "      <td>This review is a combination of a complaint an...</td>\n",
       "      <td>Passive</td>\n",
       "    </tr>\n",
       "    <tr>\n",
       "      <th>2517</th>\n",
       "      <td>London to Stockholm flight was delayed a littl...</td>\n",
       "      <td>Passive</td>\n",
       "    </tr>\n",
       "    <tr>\n",
       "      <th>2518</th>\n",
       "      <td>Los Angeles to San Francisco. I've made a po...</td>\n",
       "      <td>Detractor</td>\n",
       "    </tr>\n",
       "    <tr>\n",
       "      <th>2519</th>\n",
       "      <td>Prague to Luton. Wizz Air are inefficient an...</td>\n",
       "      <td>Detractor</td>\n",
       "    </tr>\n",
       "  </tbody>\n",
       "</table>\n",
       "<p>2520 rows × 2 columns</p>\n",
       "</div>"
      ],
      "text/plain": [
       "                                                 Review     Target\n",
       "0      Singapore to Jakarta. 9 years since I last to...    Passive\n",
       "1     Norwegian Long Haul. OSL-LGW. Flight DY1310. 1...   Promoter\n",
       "2       Guangzhou to Paris. I have paid for inflight...   Promoter\n",
       "3      Vientiane to Melbourne via Bangkok. A very en...   Promoter\n",
       "4     I travelled Manchester - Sydney return on 777-...    Passive\n",
       "...                                                 ...        ...\n",
       "2515   Stansted to Naples. They made me purchase Pri...  Detractor\n",
       "2516  This review is a combination of a complaint an...    Passive\n",
       "2517  London to Stockholm flight was delayed a littl...    Passive\n",
       "2518    Los Angeles to San Francisco. I've made a po...  Detractor\n",
       "2519    Prague to Luton. Wizz Air are inefficient an...  Detractor\n",
       "\n",
       "[2520 rows x 2 columns]"
      ]
     },
     "execution_count": 11,
     "metadata": {},
     "output_type": "execute_result"
    }
   ],
   "source": [
    "# COMANDO QUE DEVE COLOCAR NO TEMPLATE Projeto1_Template.ipynb para LER a base de dados TREINO\n",
    "# Faça adaptações digitando o nome (username) considerado\n",
    "pd.read_csv('dados_treino_ate_TRIO_'+nome+'.csv')"
   ]
  },
  {
   "cell_type": "code",
   "execution_count": 12,
   "metadata": {},
   "outputs": [
    {
     "data": {
      "text/html": [
       "<div>\n",
       "<style scoped>\n",
       "    .dataframe tbody tr th:only-of-type {\n",
       "        vertical-align: middle;\n",
       "    }\n",
       "\n",
       "    .dataframe tbody tr th {\n",
       "        vertical-align: top;\n",
       "    }\n",
       "\n",
       "    .dataframe thead th {\n",
       "        text-align: right;\n",
       "    }\n",
       "</style>\n",
       "<table border=\"1\" class=\"dataframe\">\n",
       "  <thead>\n",
       "    <tr style=\"text-align: right;\">\n",
       "      <th></th>\n",
       "      <th>Review</th>\n",
       "      <th>Target</th>\n",
       "    </tr>\n",
       "  </thead>\n",
       "  <tbody>\n",
       "    <tr>\n",
       "      <th>0</th>\n",
       "      <td>Budapest to Warsaw. The ground crew was very ...</td>\n",
       "      <td>Passive</td>\n",
       "    </tr>\n",
       "    <tr>\n",
       "      <th>1</th>\n",
       "      <td>Bergerac to Stansted. Just come off a particul...</td>\n",
       "      <td>Detractor</td>\n",
       "    </tr>\n",
       "    <tr>\n",
       "      <th>2</th>\n",
       "      <td>BRU-LIS. Flight left a few minutes late aircra...</td>\n",
       "      <td>Promoter</td>\n",
       "    </tr>\n",
       "    <tr>\n",
       "      <th>3</th>\n",
       "      <td>Fleet of A319 and A320 in this route. Fast che...</td>\n",
       "      <td>Passive</td>\n",
       "    </tr>\n",
       "    <tr>\n",
       "      <th>4</th>\n",
       "      <td>4 Nov Houston-Doha QR714 and 15 Nov Doha-Houst...</td>\n",
       "      <td>Passive</td>\n",
       "    </tr>\n",
       "    <tr>\n",
       "      <th>...</th>\n",
       "      <td>...</td>\n",
       "      <td>...</td>\n",
       "    </tr>\n",
       "    <tr>\n",
       "      <th>1075</th>\n",
       "      <td>AC869 11th July 2014 London Heathrow - Toronto...</td>\n",
       "      <td>Passive</td>\n",
       "    </tr>\n",
       "    <tr>\n",
       "      <th>1076</th>\n",
       "      <td>LHR-DXB-LHR. First flight on the Emirates A380...</td>\n",
       "      <td>Passive</td>\n",
       "    </tr>\n",
       "    <tr>\n",
       "      <th>1077</th>\n",
       "      <td>BKK-KUL KUL-HKT BKK-HKT. Had booked for my gir...</td>\n",
       "      <td>Detractor</td>\n",
       "    </tr>\n",
       "    <tr>\n",
       "      <th>1078</th>\n",
       "      <td>My wife and myself flew from Glasgow to Sydney...</td>\n",
       "      <td>Detractor</td>\n",
       "    </tr>\n",
       "    <tr>\n",
       "      <th>1079</th>\n",
       "      <td>Johannesburg - Abuja return on South African...</td>\n",
       "      <td>Passive</td>\n",
       "    </tr>\n",
       "  </tbody>\n",
       "</table>\n",
       "<p>1080 rows × 2 columns</p>\n",
       "</div>"
      ],
      "text/plain": [
       "                                                 Review     Target\n",
       "0      Budapest to Warsaw. The ground crew was very ...    Passive\n",
       "1     Bergerac to Stansted. Just come off a particul...  Detractor\n",
       "2     BRU-LIS. Flight left a few minutes late aircra...   Promoter\n",
       "3     Fleet of A319 and A320 in this route. Fast che...    Passive\n",
       "4     4 Nov Houston-Doha QR714 and 15 Nov Doha-Houst...    Passive\n",
       "...                                                 ...        ...\n",
       "1075  AC869 11th July 2014 London Heathrow - Toronto...    Passive\n",
       "1076  LHR-DXB-LHR. First flight on the Emirates A380...    Passive\n",
       "1077  BKK-KUL KUL-HKT BKK-HKT. Had booked for my gir...  Detractor\n",
       "1078  My wife and myself flew from Glasgow to Sydney...  Detractor\n",
       "1079    Johannesburg - Abuja return on South African...    Passive\n",
       "\n",
       "[1080 rows x 2 columns]"
      ]
     },
     "execution_count": 12,
     "metadata": {},
     "output_type": "execute_result"
    }
   ],
   "source": [
    "# COMANDO QUE DEVE COLOCAR NO TEMPLATE Projeto1_Template.ipynb para LER a base de dados TESTE\n",
    "# Faça adaptações digitando o nome (username) considerado\n",
    "pd.read_csv('dados_teste_ate_TRIO_'+nome+'.csv')"
   ]
  },
  {
   "cell_type": "code",
   "execution_count": null,
   "metadata": {},
   "outputs": [],
   "source": []
  },
  {
   "cell_type": "code",
   "execution_count": null,
   "metadata": {},
   "outputs": [],
   "source": []
  },
  {
   "cell_type": "code",
   "execution_count": null,
   "metadata": {},
   "outputs": [],
   "source": []
  }
 ],
 "metadata": {
  "kernelspec": {
   "display_name": "Python 3",
   "language": "python",
   "name": "python3"
  },
  "language_info": {
   "codemirror_mode": {
    "name": "ipython",
    "version": 3
   },
   "file_extension": ".py",
   "mimetype": "text/x-python",
   "name": "python",
   "nbconvert_exporter": "python",
   "pygments_lexer": "ipython3",
   "version": "3.11.9"
  }
 },
 "nbformat": 4,
 "nbformat_minor": 2
}
